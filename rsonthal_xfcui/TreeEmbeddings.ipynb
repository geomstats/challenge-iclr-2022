{
  "nbformat": 4,
  "nbformat_minor": 0,
  "metadata": {
    "colab": {
      "name": "TreeEmbeddings.ipynb",
      "provenance": [],
      "collapsed_sections": []
    },
    "kernelspec": {
      "name": "python3",
      "display_name": "Python 3"
    },
    "language_info": {
      "name": "python"
    }
  },
  "cells": [
    {
      "cell_type": "code",
      "execution_count": 1,
      "metadata": {
        "id": "hJxl-JMnhB-x"
      },
      "outputs": [],
      "source": [
        "import torch\n",
        "import numpy as np\n",
        "import networkx as nx"
      ]
    },
    {
      "cell_type": "code",
      "source": [
        "import TreeRep"
      ],
      "metadata": {
        "id": "249LAcQIhJLl"
      },
      "execution_count": 2,
      "outputs": []
    },
    {
      "cell_type": "code",
      "source": [
        "for trial in range(100,5000,100):\n",
        "  n = 200\n",
        "  G = nx.gnp_random_graph(200, 0.7)\n",
        "  for e in G.edges():\n",
        "      G[e[0]][e[1]]['weight'] = np.random.rand()*10\n",
        "  d = nx.algorithms.shortest_paths.dense.floyd_warshall(G)\n",
        "  D = torch.zeros(n,n, dtype = torch.double)\n",
        "  for i in range(n):\n",
        "    for j in range(n):\n",
        "      D[i,j] = d[i][j]\n",
        "\n",
        "  T = TreeRep.TreeRep(D)\n",
        "  T.learn_tree()\n",
        "  print(G.number_of_nodes(), G.number_of_edges())\n",
        "  print(T.G.number_of_nodes(),T.G.number_of_edges())\n",
        "  print(nx.is_k_edge_connected(T.G,1), nx.is_k_edge_connected(T.G,2))\n",
        "  print()"
      ],
      "metadata": {
        "colab": {
          "base_uri": "https://localhost:8080/"
        },
        "id": "q7DkIMMkjqSn",
        "outputId": "ee57cd52-8162-4797-c20b-524b4a488046"
      },
      "execution_count": null,
      "outputs": [
        {
          "output_type": "stream",
          "name": "stdout",
          "text": [
            "200 14014\n",
            "276 275\n",
            "True False\n",
            "\n",
            "200 13896\n",
            "290 289\n",
            "True False\n",
            "\n",
            "200 13875\n",
            "283 282\n",
            "True False\n",
            "\n",
            "200 13856\n",
            "284 283\n",
            "True False\n",
            "\n",
            "200 13893\n",
            "292 291\n",
            "True False\n",
            "\n",
            "200 13889\n",
            "297 296\n",
            "True False\n",
            "\n",
            "200 13838\n",
            "277 276\n",
            "True False\n",
            "\n",
            "200 13891\n",
            "282 281\n",
            "True False\n",
            "\n",
            "200 14076\n",
            "289 288\n",
            "True False\n",
            "\n",
            "200 13898\n",
            "276 275\n",
            "True False\n",
            "\n",
            "200 13928\n",
            "257 256\n",
            "True False\n",
            "\n",
            "200 13874\n",
            "286 285\n",
            "True False\n",
            "\n",
            "200 13940\n",
            "288 287\n",
            "True False\n",
            "\n",
            "200 14056\n",
            "276 275\n",
            "True False\n",
            "\n",
            "200 13864\n",
            "280 279\n",
            "True False\n",
            "\n",
            "200 13906\n",
            "287 286\n",
            "True False\n",
            "\n",
            "200 13910\n",
            "304 303\n",
            "True False\n",
            "\n",
            "200 13956\n",
            "254 253\n",
            "True False\n",
            "\n",
            "200 13990\n",
            "292 291\n",
            "True False\n",
            "\n",
            "200 13850\n",
            "293 292\n",
            "True False\n",
            "\n",
            "200 13824\n",
            "275 274\n",
            "True False\n",
            "\n",
            "200 13898\n",
            "310 309\n",
            "True False\n",
            "\n",
            "200 13962\n",
            "286 285\n",
            "True False\n",
            "\n",
            "200 13992\n",
            "279 278\n",
            "True False\n",
            "\n",
            "200 13839\n",
            "288 287\n",
            "True False\n",
            "\n"
          ]
        }
      ]
    }
  ]
}
